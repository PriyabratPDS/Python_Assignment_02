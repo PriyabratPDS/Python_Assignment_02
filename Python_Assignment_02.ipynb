{
 "cells": [
  {
   "cell_type": "markdown",
   "id": "e7df0587",
   "metadata": {},
   "source": [
    "### 1.What are the two values of the Boolean data type? How do you write them?"
   ]
  },
  {
   "cell_type": "code",
   "execution_count": null,
   "id": "adb7c825",
   "metadata": {},
   "outputs": [],
   "source": [
    "\"\"\"\n",
    "\n",
    "Two values of Boolean Datatype : \n",
    "1,True \n",
    "2,False\n",
    "\n",
    "--> To evaluate any value we write bool() function is used.\n",
    "\"\"\""
   ]
  },
  {
   "cell_type": "code",
   "execution_count": 1,
   "id": "b36292ab",
   "metadata": {},
   "outputs": [
    {
     "name": "stdout",
     "output_type": "stream",
     "text": [
      "False , b is greater than a\n"
     ]
    }
   ],
   "source": [
    "#eg,\n",
    "a = 10\n",
    "b = 20\n",
    "if a > b:\n",
    "    print(f\"{bool(a>b)} , a is greater than b\")\n",
    "else:\n",
    "    print(f\"{bool(a>b)} , b is greater than a\")"
   ]
  },
  {
   "cell_type": "code",
   "execution_count": null,
   "id": "7d704c56",
   "metadata": {},
   "outputs": [],
   "source": []
  },
  {
   "cell_type": "code",
   "execution_count": null,
   "id": "0002ce49",
   "metadata": {},
   "outputs": [],
   "source": []
  },
  {
   "cell_type": "markdown",
   "id": "2b925313",
   "metadata": {},
   "source": [
    "### 2. What are the three different types of Boolean operators?"
   ]
  },
  {
   "cell_type": "code",
   "execution_count": null,
   "id": "8e179de8",
   "metadata": {},
   "outputs": [],
   "source": [
    "\n",
    "\n",
    "\"\"\"\n",
    "1,and\n",
    "2,or\n",
    "3,not\n",
    "\n",
    "when there is more than one condition or we have to compare values(single),the result is evaluated and returned \n",
    "by boolean values.\n",
    "\n",
    "\"\"\""
   ]
  },
  {
   "cell_type": "code",
   "execution_count": null,
   "id": "b7390a11",
   "metadata": {},
   "outputs": [],
   "source": []
  },
  {
   "cell_type": "code",
   "execution_count": null,
   "id": "2c8bdb6f",
   "metadata": {},
   "outputs": [],
   "source": []
  },
  {
   "cell_type": "markdown",
   "id": "ddbc3ce8",
   "metadata": {},
   "source": [
    "### 3. Make a list of each Boolean operator's truth tables (i.e. every possible combination of Boolean values for the operator and what it evaluate )."
   ]
  },
  {
   "cell_type": "code",
   "execution_count": null,
   "id": "f8444a5f",
   "metadata": {},
   "outputs": [],
   "source": [
    "\n",
    "\"\"\"\n",
    "True is denoted as 1\n",
    "False is denote as 0\n",
    "\n",
    " Truth table using 'and' operator\n",
    "A-->  operator-->  B-->   o/p\n",
    "True   and        True    True\n",
    "True   and        False   False\n",
    "False  and        True    False\n",
    "False  and        False   False\n",
    "\n",
    "\n",
    " Truth table using 'or' operator\n",
    "A-->   operator-->   B-->    o/p\n",
    "True    or          True     True\n",
    "True    or          False    True\n",
    "False   or          True     True\n",
    "False   or          False    False\n",
    "\n",
    "\n",
    " Truth table using 'not' operator\n",
    "\n",
    "A-->   operator-->   o/p\n",
    "True     not True    False\n",
    "False    not False   True\n",
    "\n",
    "\"\"\"\n"
   ]
  },
  {
   "cell_type": "code",
   "execution_count": null,
   "id": "4559ac13",
   "metadata": {},
   "outputs": [],
   "source": []
  },
  {
   "cell_type": "markdown",
   "id": "7b5a1034",
   "metadata": {},
   "source": [
    "### 4. What are the values of the following expressions?\n",
    "        (5 > 4) and (3 == 5)\n",
    "        not (5 > 4)\n",
    "        (5 > 4) or (3 == 5)\n",
    "        not ((5 > 4) or (3 == 5))\n",
    "        (True and True) and (True == False)\n",
    "        (not False) or (not True)\n"
   ]
  },
  {
   "cell_type": "code",
   "execution_count": null,
   "id": "88657569",
   "metadata": {},
   "outputs": [],
   "source": [
    "\n",
    "\"\"\"\n",
    "                                                                          o/p\n",
    "1, (5 > 4) and (3 == 5)                    True   and  False              : False\n",
    "2,  not (5 > 4)                              not(True)                    : False\n",
    "3,  (5 > 4) or (3 == 5)                    True   or  False               : True\n",
    "4,  not ((5 > 4) or (3 == 5))           not(True  or  False)              : False\n",
    "5, (True and True) and (True == False)     True   and False               : False\n",
    "6  (not False) or (not True)               True   or  False               : True\n",
    "\n",
    "\"\"\""
   ]
  },
  {
   "cell_type": "code",
   "execution_count": 2,
   "id": "2b6866b2",
   "metadata": {},
   "outputs": [
    {
     "name": "stdout",
     "output_type": "stream",
     "text": [
      "False\n",
      "\n",
      "\n",
      "False\n",
      "\n",
      "\n",
      "True\n",
      "\n",
      "\n",
      "False\n",
      "\n",
      "\n",
      "False\n",
      "\n",
      "\n",
      "True\n"
     ]
    }
   ],
   "source": [
    "print((5 > 4) and (3 == 5))\n",
    "print(\"\\n\")\n",
    "print(not (5 > 4))\n",
    "print(\"\\n\")\n",
    "print((5 > 4) or (3 == 5))\n",
    "print(\"\\n\")\n",
    "print( not ((5 > 4) or (3 == 5)))\n",
    "print(\"\\n\")\n",
    "print((True and True) and (True == False))\n",
    "print(\"\\n\")\n",
    "print((not False) or (not True))"
   ]
  },
  {
   "cell_type": "code",
   "execution_count": null,
   "id": "b6ed57a1",
   "metadata": {},
   "outputs": [],
   "source": []
  },
  {
   "cell_type": "markdown",
   "id": "fbd58df4",
   "metadata": {},
   "source": [
    "### 5. What are the six comparison operators?"
   ]
  },
  {
   "cell_type": "code",
   "execution_count": null,
   "id": "4a0ef6b3",
   "metadata": {},
   "outputs": [],
   "source": [
    "Ans)\n",
    "\n",
    "\"\"\"\n",
    "--> comparision operators :1, used to compare two values and determine the condition is True or Fale.\n",
    "                          :2, when we use condition ,willuse comparision operators.\n",
    "                          \n",
    "-->There are 6 comparision operators.\n",
    "\n",
    "operator     Name of operator       \n",
    "==             equal\n",
    "!=             not equal\n",
    ">              greater than\n",
    "<              less than\n",
    ">=             greater than or eual to\n",
    "<=             less than or equal to\n",
    "\n",
    "\"\"\""
   ]
  },
  {
   "cell_type": "code",
   "execution_count": null,
   "id": "b6d62181",
   "metadata": {},
   "outputs": [],
   "source": []
  },
  {
   "cell_type": "markdown",
   "id": "a2321824",
   "metadata": {},
   "source": [
    "### 6. How do you tell the difference between the equal to and assignment operators?Describe a condition and when you would use one."
   ]
  },
  {
   "cell_type": "code",
   "execution_count": null,
   "id": "ec66a0a6",
   "metadata": {},
   "outputs": [],
   "source": [
    "\n",
    "\"\"\"\n",
    "Equal operator(==) is used to compare two values where as assignment operator(=) is used to assign values or datatype \n",
    "to variableso that variable can store it .\n",
    "\n",
    "condition: if we say x = 7,that means we assigning 7 which is int datatype to 'x' variable(its a statement),\n",
    "           where asif we say x==7 it means here we know that x is already defined with some value and right \n",
    "           now we are comparing thevalue stored in x with value 7.\n",
    "\n",
    "\n",
    "\"\"\""
   ]
  },
  {
   "cell_type": "code",
   "execution_count": null,
   "id": "3be34eef",
   "metadata": {},
   "outputs": [],
   "source": []
  },
  {
   "cell_type": "markdown",
   "id": "da741b50",
   "metadata": {},
   "source": [
    "### 7. Identify the three blocks in this code:\n",
    "       spam = 0\n",
    "       if spam == 10:\n",
    "       print('eggs')\n",
    "       if spam > 5:\n",
    "       print('bacon')\n",
    "       else:\n",
    "       print('ham')\n",
    "       print('spam')\n",
    "       print('spam')\n"
   ]
  },
  {
   "cell_type": "code",
   "execution_count": 3,
   "id": "862259e3",
   "metadata": {},
   "outputs": [
    {
     "name": "stdout",
     "output_type": "stream",
     "text": [
      "ham\n",
      "spam\n",
      "spam\n"
     ]
    }
   ],
   "source": [
    "# Indentation is used to define a block of code in python.\n",
    "spam = 0\n",
    "if spam == 10:\n",
    "    print('eggs') # 1st block of code\n",
    "if spam >5:\n",
    "    print(\"bacon\") # 2nd block of code\n",
    "else:\n",
    "    print('ham')  # 3rd block of code\n",
    "    print('spam')\n",
    "    print('spam')\n"
   ]
  },
  {
   "cell_type": "code",
   "execution_count": null,
   "id": "124fc624",
   "metadata": {},
   "outputs": [],
   "source": []
  },
  {
   "cell_type": "markdown",
   "id": "73e3b0a6",
   "metadata": {},
   "source": [
    "### 8. Write code that prints Hello if 1 is stored in spam, prints Howdy if 2 is stored in spam, and prints Greetings! if anything else is stored in spam."
   ]
  },
  {
   "cell_type": "code",
   "execution_count": 4,
   "id": "1d145172",
   "metadata": {},
   "outputs": [
    {
     "name": "stdout",
     "output_type": "stream",
     "text": [
      "Greetings!\n"
     ]
    }
   ],
   "source": [
    "spam = 0\n",
    "if spam == 1:\n",
    "    print(\"Hello\")\n",
    "elif spam == 2:\n",
    "    print(\"Howdy\")\n",
    "else:\n",
    "    print(\"Greetings!\")"
   ]
  },
  {
   "cell_type": "code",
   "execution_count": null,
   "id": "8cbad5f4",
   "metadata": {},
   "outputs": [],
   "source": []
  },
  {
   "cell_type": "markdown",
   "id": "f7130499",
   "metadata": {},
   "source": [
    "### 9.If your programme is stuck in an endless loop, what keys you’ll press?"
   ]
  },
  {
   "cell_type": "code",
   "execution_count": null,
   "id": "c7736079",
   "metadata": {},
   "outputs": [],
   "source": [
    "\"\"\" ctrl + c or restart kernel(all variable will be lost but we can run all the cell again.)    \"\"\""
   ]
  },
  {
   "cell_type": "code",
   "execution_count": null,
   "id": "76736349",
   "metadata": {},
   "outputs": [],
   "source": []
  },
  {
   "cell_type": "markdown",
   "id": "ac3c8481",
   "metadata": {},
   "source": [
    "### 10. How can you tell the difference between break and continue?"
   ]
  },
  {
   "cell_type": "code",
   "execution_count": null,
   "id": "5a179f5a",
   "metadata": {},
   "outputs": [],
   "source": [
    "\"\"\"\n",
    "\n",
    "1, break and continue statements are called jump statements.\n",
    "    2,its used to control the loop\n",
    "\n",
    "--> break statement is used where we need to terminate the iteration and terminate the loop and can go to next block of code.\n",
    "\n",
    "--> continue statement returns the control to the begining of loop.continue statement rejects all the line of codes in the \n",
    "    current iteration of loop and move back to top of same loop.\n",
    "    \n",
    "\"\"\""
   ]
  },
  {
   "cell_type": "code",
   "execution_count": null,
   "id": "aaa2c455",
   "metadata": {},
   "outputs": [],
   "source": []
  },
  {
   "cell_type": "code",
   "execution_count": null,
   "id": "dc700b3f",
   "metadata": {},
   "outputs": [],
   "source": []
  },
  {
   "cell_type": "markdown",
   "id": "0dd28de8",
   "metadata": {},
   "source": [
    "### 11. In a for loop, what is the difference between range(10), range(0, 10), and range(0, 10, 1)?"
   ]
  },
  {
   "cell_type": "code",
   "execution_count": null,
   "id": "34857d8b",
   "metadata": {},
   "outputs": [],
   "source": [
    "\n",
    "\n",
    "\"\"\"\n",
    "\n",
    "range() : its a inbuilt function generates a list which returns a sequence of numbers.\n",
    "--->range() works in 3 forms : 1,lower limit(by default 0)\n",
    "                           2,upper limit(stops before upper limit)\n",
    "                           3,step value(by default 1)\n",
    "                           \n",
    "                           \n",
    "1, range(10) : upper limit = 10\n",
    "2, range(0,10):lower limit = 0,upper limit = 10\n",
    "3, range(0,10,1):lower limit = 0,upper limit = 10,step value = 1\n",
    "\n",
    "\"\"\""
   ]
  },
  {
   "cell_type": "code",
   "execution_count": null,
   "id": "0d75a7bc",
   "metadata": {},
   "outputs": [],
   "source": []
  },
  {
   "cell_type": "markdown",
   "id": "b54cca8c",
   "metadata": {},
   "source": [
    "### 12. Write a short program that prints the numbers 1 to 10 using a for loop. Then write an equivalent program that prints the numbers 1 to 10 using a while loop."
   ]
  },
  {
   "cell_type": "code",
   "execution_count": 5,
   "id": "299c734c",
   "metadata": {},
   "outputs": [
    {
     "name": "stdout",
     "output_type": "stream",
     "text": [
      "1\n",
      "2\n",
      "3\n",
      "4\n",
      "5\n",
      "6\n",
      "7\n",
      "8\n",
      "9\n",
      "10\n"
     ]
    }
   ],
   "source": [
    "# for loop\n",
    "for i in range(1,11):\n",
    "    print(i)"
   ]
  },
  {
   "cell_type": "code",
   "execution_count": 6,
   "id": "05d750ce",
   "metadata": {},
   "outputs": [
    {
     "name": "stdout",
     "output_type": "stream",
     "text": [
      "1\n",
      "2\n",
      "3\n",
      "4\n",
      "5\n",
      "6\n",
      "7\n",
      "8\n",
      "9\n",
      "10\n"
     ]
    }
   ],
   "source": [
    "# while loop\n",
    "\n",
    "i = 1\n",
    "while i <= 10:\n",
    "    print(i)\n",
    "    i = i+1"
   ]
  },
  {
   "cell_type": "code",
   "execution_count": null,
   "id": "75ee648b",
   "metadata": {},
   "outputs": [],
   "source": []
  },
  {
   "cell_type": "markdown",
   "id": "bbf76b51",
   "metadata": {},
   "source": [
    "### 13. If you had a function named bacon() inside a module named spam, how would you call it after importing spam?"
   ]
  },
  {
   "cell_type": "code",
   "execution_count": null,
   "id": "f9e3abac",
   "metadata": {},
   "outputs": [],
   "source": [
    "\n",
    "\n",
    "\"\"\"\n",
    "import spam as sm\n",
    "sm.bacon()\n",
    "\n",
    "\n",
    "\"\"\""
   ]
  },
  {
   "cell_type": "code",
   "execution_count": null,
   "id": "fe28e914",
   "metadata": {},
   "outputs": [],
   "source": []
  },
  {
   "cell_type": "code",
   "execution_count": null,
   "id": "4bdf7f68",
   "metadata": {},
   "outputs": [],
   "source": []
  }
 ],
 "metadata": {
  "kernelspec": {
   "display_name": "Python 3 (ipykernel)",
   "language": "python",
   "name": "python3"
  },
  "language_info": {
   "codemirror_mode": {
    "name": "ipython",
    "version": 3
   },
   "file_extension": ".py",
   "mimetype": "text/x-python",
   "name": "python",
   "nbconvert_exporter": "python",
   "pygments_lexer": "ipython3",
   "version": "3.9.12"
  }
 },
 "nbformat": 4,
 "nbformat_minor": 5
}
